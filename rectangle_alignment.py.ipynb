{
 "cells": [
  {
   "cell_type": "code",
   "execution_count": 1,
   "id": "47b74946",
   "metadata": {},
   "outputs": [],
   "source": [
    "import cv2\n",
    "import numpy as np"
   ]
  },
  {
   "cell_type": "code",
   "execution_count": 2,
   "id": "d5f75f77",
   "metadata": {},
   "outputs": [],
   "source": [
    "def main():\n",
    "    img = cv2.imread(\"/home/rojan/Downloads/rectangle.png\")\n",
    "    cnt = np.array([\n",
    "        [[64, 49]],\n",
    "    [[122, 11]],\n",
    "    [[391, 326]],\n",
    "    [[308, 373]]\n",
    "    ])\n",
    "    print(\"shape of cnt: {}\".format(cnt.shape))\n",
    "    rect = cv2.minAreaRect(cnt)\n",
    "    print(\"rect: {}\".format(rect))\n",
    "\n",
    "    box = cv2.boxPoints(rect)\n",
    "    box = np.int0(box)\n",
    "\n",
    "    print(\"bounding box: {}\".format(box))\n",
    "    cv2.drawContours(img, [box], 0, (0, 0, 255), 2)\n",
    "\n",
    "    img_crop, img_rot = crop_rect(img, rect)\n",
    "\n",
    "    print(\"size of original img: {}\".format(img.shape))\n",
    "    print(\"size of rotated img: {}\".format(img_rot.shape))\n",
    "    print(\"size of cropped img: {}\".format(img_crop.shape))\n",
    "\n",
    "    new_size = (int(img_rot.shape[1]/2), int(img_rot.shape[0]/2))\n",
    "    img_rot_resized = cv2.resize(img_rot, new_size)\n",
    "    new_size = (int(img.shape[1]/2)), int(img.shape[0]/2)\n",
    "    img_resized = cv2.resize(img, new_size)\n",
    "\n",
    "    cv2.imshow(\"original contour\", img_resized)\n",
    "    cv2.imshow(\"rotated image\", img_rot_resized)\n",
    "    cv2.imshow(\"cropped_box\", img_crop)\n",
    "\n",
    "    cv2.waitKey(0)"
   ]
  },
  {
   "cell_type": "code",
   "execution_count": null,
   "id": "db307307",
   "metadata": {},
   "outputs": [
    {
     "name": "stdout",
     "output_type": "stream",
     "text": [
      "shape of cnt: (4, 1, 2)\n",
      "rect: ((227.50001525878906, 187.5), (417.98736572265625, 94.57572937011719), 53.01708984375)\n",
      "bounding box: [[ 64  49]\n",
      " [139  -7]\n",
      " [391 326]\n",
      " [315 382]]\n",
      "width: 795, height: 531\n",
      "size of original img: (531, 795, 3)\n",
      "size of rotated img: (531, 795, 3)\n",
      "size of cropped img: (94, 417, 3)\n"
     ]
    },
    {
     "name": "stderr",
     "output_type": "stream",
     "text": [
      "Warning: Ignoring XDG_SESSION_TYPE=wayland on Gnome. Use QT_QPA_PLATFORM=wayland to run on Wayland anyway.\n"
     ]
    }
   ],
   "source": [
    "def crop_rect(img, rect):\n",
    "    center = rect[0]\n",
    "    size = rect[1]\n",
    "    angle = rect[2]\n",
    "    center, size = tuple(map(int, center)), tuple(map(int, size))\n",
    "\n",
    "    height, width = img.shape[0], img.shape[1]\n",
    "    print(\"width: {}, height: {}\".format(width, height))\n",
    "\n",
    "    M = cv2.getRotationMatrix2D(center, angle, 1)\n",
    "    img_rot = cv2.warpAffine(img, M, (width, height))\n",
    "\n",
    "    img_crop = cv2.getRectSubPix(img_rot, size, center)\n",
    "\n",
    "    return img_crop, img_rot\n",
    "\n",
    "if __name__ == \"__main__\":\n",
    "    main()"
   ]
  },
  {
   "cell_type": "code",
   "execution_count": null,
   "id": "853c9c23",
   "metadata": {},
   "outputs": [],
   "source": []
  }
 ],
 "metadata": {
  "kernelspec": {
   "display_name": "Python 3 (ipykernel)",
   "language": "python",
   "name": "python3"
  },
  "language_info": {
   "codemirror_mode": {
    "name": "ipython",
    "version": 3
   },
   "file_extension": ".py",
   "mimetype": "text/x-python",
   "name": "python",
   "nbconvert_exporter": "python",
   "pygments_lexer": "ipython3",
   "version": "3.10.4"
  }
 },
 "nbformat": 4,
 "nbformat_minor": 5
}
