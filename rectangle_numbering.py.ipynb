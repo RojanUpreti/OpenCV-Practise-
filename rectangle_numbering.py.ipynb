{
 "cells": [
  {
   "cell_type": "code",
   "execution_count": 2,
   "id": "f3290037",
   "metadata": {},
   "outputs": [],
   "source": [
    "import numpy as np\n",
    "import cv2"
   ]
  },
  {
   "cell_type": "code",
   "execution_count": 3,
   "id": "d7e4c5c7",
   "metadata": {},
   "outputs": [],
   "source": [
    "img=cv2.imread('/home/rojan/Downloads/rectangle.png')"
   ]
  },
  {
   "cell_type": "code",
   "execution_count": null,
   "id": "43363064",
   "metadata": {},
   "outputs": [
    {
     "name": "stderr",
     "output_type": "stream",
     "text": [
      "Warning: Ignoring XDG_SESSION_TYPE=wayland on Gnome. Use QT_QPA_PLATFORM=wayland to run on Wayland anyway.\n"
     ]
    }
   ],
   "source": [
    "cv2.imshow(\"window\",img)\n",
    "cv2.waitKey(0)\n",
    "cv2.destroyAllWindows()"
   ]
  },
  {
   "cell_type": "code",
   "execution_count": null,
   "id": "c9b6ee08",
   "metadata": {},
   "outputs": [],
   "source": [
    "duplicate_img=cv2.imread('/home/rojan/Downloads/rectangle.png')"
   ]
  },
  {
   "cell_type": "code",
   "execution_count": null,
   "id": "be6eb1df",
   "metadata": {},
   "outputs": [],
   "source": [
    "img=cv2.cvtColor(img,cv2.COLOR_BGR2GRAY)\n",
    "img"
   ]
  },
  {
   "cell_type": "code",
   "execution_count": null,
   "id": "303a995f",
   "metadata": {},
   "outputs": [],
   "source": [
    "edges=cv2.Canny(img,100,200)\n",
    "edges"
   ]
  },
  {
   "cell_type": "code",
   "execution_count": null,
   "id": "b168a1cc",
   "metadata": {},
   "outputs": [],
   "source": [
    "# cv2.HoughLinesP?"
   ]
  },
  {
   "cell_type": "code",
   "execution_count": null,
   "id": "68c90404",
   "metadata": {},
   "outputs": [],
   "source": [
    "lines=cv2.HoughLinesP(edges,rho=1, theta=1*np.pi/180, threshold=100, minLineLength=100, maxLineGap=50)\n",
    "lines"
   ]
  },
  {
   "cell_type": "code",
   "execution_count": null,
   "id": "7672a074",
   "metadata": {},
   "outputs": [],
   "source": [
    "for i in lines:\n",
    "    x1,y1,x2,y2=i[0]\n",
    "    cv2.line(duplicate_img,(x1,y1),(x2,y2),(0,255,0),5)"
   ]
  },
  {
   "cell_type": "code",
   "execution_count": null,
   "id": "8f17dd50",
   "metadata": {},
   "outputs": [],
   "source": [
    "cv2.imshow(\"window\",duplicate_img)\n",
    "cv2.waitKey(0)\n",
    "cv2.destroyAllWindows()"
   ]
  },
  {
   "cell_type": "code",
   "execution_count": null,
   "id": "9faabea5",
   "metadata": {},
   "outputs": [],
   "source": []
  },
  {
   "cell_type": "code",
   "execution_count": 2,
   "id": "81d3cbe1",
   "metadata": {},
   "outputs": [
    {
     "data": {
      "text/plain": [
       "True"
      ]
     },
     "execution_count": 2,
     "metadata": {},
     "output_type": "execute_result"
    }
   ],
   "source": [
    "for r_theta in lines:\n",
    "    arr = np.array(r_theta[0], dtype=np.float64)\n",
    "    r, theta = arr\n",
    "    a = np.cos(theta)\n",
    "    b = np.sin(theta)\n",
    "    x0 = a*r\n",
    "    y0 = b*r\n",
    "    cv2.line(img, (x1, y1), (x2, y2), (0, 0, 255), 2)\n",
    " \n",
    "cv2.imwrite('linesDetected.jpg', img)"
   ]
  },
  {
   "cell_type": "code",
   "execution_count": null,
   "id": "7aa11ec9",
   "metadata": {},
   "outputs": [],
   "source": []
  }
 ],
 "metadata": {
  "kernelspec": {
   "display_name": "Python 3 (ipykernel)",
   "language": "python",
   "name": "python3"
  },
  "language_info": {
   "codemirror_mode": {
    "name": "ipython",
    "version": 3
   },
   "file_extension": ".py",
   "mimetype": "text/x-python",
   "name": "python",
   "nbconvert_exporter": "python",
   "pygments_lexer": "ipython3",
   "version": "3.10.4"
  }
 },
 "nbformat": 4,
 "nbformat_minor": 5
}
